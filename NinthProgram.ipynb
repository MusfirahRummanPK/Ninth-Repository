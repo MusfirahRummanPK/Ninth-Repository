{
 "cells": [
  {
   "cell_type": "markdown",
   "id": "4068371f",
   "metadata": {},
   "source": [
    "# Conditional Statements in Python\n",
    "### Definition :\n",
    "#### Conditional statements are used to execute specific blocks of code based on conditions or decisions . They allow the program to adapt its behavior depending on the input , data or other factors .\n"
   ]
  },
  {
   "cell_type": "markdown",
   "id": "23f02eb4",
   "metadata": {},
   "source": [
    "## Types of Conditional Statements \n",
    "### 1. If Statement \n",
    "#### Definition :\n",
    "##### An if statement is a conditional statement that executes a block of code if specific condition is true . It allows the program to make a decision based on a singlr condition .\n",
    "#### Example :"
   ]
  },
  {
   "cell_type": "code",
   "execution_count": null,
   "id": "75037a06",
   "metadata": {},
   "outputs": [
    {
     "name": "stdout",
     "output_type": "stream",
     "text": [
      "Take a nap\n",
      "Bring a gift\n"
     ]
    }
   ],
   "source": [
    "feeling = \"Tired\"\n",
    "\n",
    "if feeling : \"Tired\"\n",
    "print(\"Take a nap\") \n",
    "\n",
    "occasion = \"Birthday\"\n",
    "\n",
    "if occasion : \"Birthday\"\n",
    "print(\"Bring a gift\")"
   ]
  },
  {
   "cell_type": "markdown",
   "id": "c686c3aa",
   "metadata": {},
   "source": [
    "### 2. If-Else Statement \n",
    "#### Definition :\n",
    "##### An if-else statement is a conditional staement that executes one block of code if a condition is true and another block of code if the condition is false . It provides an alternative action when the condition is not met .\n",
    "#### Example :"
   ]
  },
  {
   "cell_type": "code",
   "execution_count": 4,
   "id": "15302890",
   "metadata": {},
   "outputs": [
    {
     "name": "stdout",
     "output_type": "stream",
     "text": [
      "Buy a snack\n",
      "stay home\n"
     ]
    }
   ],
   "source": [
    "wallet = \"has_money\"\n",
    "\n",
    "if wallet == \"has_money\":\n",
    "   print(\"Buy a snack\")\n",
    "else:\n",
    "   print(\"Save up\")\n",
    "\n",
    "schedule = \"not has_appointment\"\n",
    "\n",
    "if schedule == \"has_appointment\":\n",
    "    print(\"go on time\")\n",
    "else:\n",
    "    print(\"stay home\")  "
   ]
  },
  {
   "cell_type": "markdown",
   "id": "370f3d66",
   "metadata": {},
   "source": [
    "### 3. If-Elif-Else Statement \n",
    "#### Definition :\n",
    "##### An if-elif-else statement is a conditional statement that checks multiple conditions and executes different blocks of code based on those conditions . It allows the program to make more complex decisions by avaluating multiple conditions in sequence .\n",
    "#### Example :"
   ]
  },
  {
   "cell_type": "code",
   "execution_count": 9,
   "id": "ea311467",
   "metadata": {},
   "outputs": [
    {
     "name": "stdout",
     "output_type": "stream",
     "text": [
      "It's afternoon\n"
     ]
    }
   ],
   "source": [
    "time = 2 \n",
    "if time > 12:\n",
    "    print(\"It's morning\")\n",
    "elif time < 18:\n",
    "    print(\"It's afternoon\")\n",
    "else:\n",
    "    print(\"It's evening\") "
   ]
  }
 ],
 "metadata": {
  "kernelspec": {
   "display_name": "base",
   "language": "python",
   "name": "python3"
  },
  "language_info": {
   "codemirror_mode": {
    "name": "ipython",
    "version": 3
   },
   "file_extension": ".py",
   "mimetype": "text/x-python",
   "name": "python",
   "nbconvert_exporter": "python",
   "pygments_lexer": "ipython3",
   "version": "3.12.7"
  }
 },
 "nbformat": 4,
 "nbformat_minor": 5
}
